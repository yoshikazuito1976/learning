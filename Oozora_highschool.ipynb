{
 "cells": [
  {
   "cell_type": "markdown",
   "id": "063811a0-e585-451e-8af1-1e0896a9e909",
   "metadata": {},
   "source": [
    "## PythonでBMI計算機をプログラミングしてみましょう！\n",
    "\n",
    "\n",
    "BMIってご存じでしょうか？Body Mass Indexの略でBMIです  \n",
    "BMI（Body Mass Index）はボディマス指数と呼ばれ、体重と身長から算出される肥満度を表す体格指数です。  \n",
    "子供には別の指数が存在しますが、成人ではBMIが国際的な指標として用いられています。健康を維持するためは日頃からBMIを把握することが重要です  \n",
    "\n",
    "BMI ＝ 体重kg ÷ (身長m)^2  \n",
    "適正体重 ＝ (身長m)^2 ×22  \n",
    "\n",
    "成人\n",
    "日本肥満学会の判定基準  \n",
    "BMI値\t判定  \n",
    "18.5未満\t低体重(痩せ型)  　\n",
    "18.5〜25未満\t普通体重  \n",
    "25〜30未満\t肥満(1度)  \n",
    "30〜35未満\t肥満(2度)  \n",
    "35〜40未満\t肥満(3度)  \n",
    "40以上\t肥満(4度)  \n",
    "\n",
    "世界保健機関(WHO)の判定基準  \n",
    "BMI値\t判定  \n",
    "16未満\t痩せすぎ  \n",
    "16.00〜16.99以下\t痩せ  \n",
    "17.00〜18.49以下\t痩せぎみ  \n",
    "18.50〜24.99以下\t普通体重  \n",
    "25.00〜29.99以下\t前肥満  \n",
    "30.00〜34.99以下\t肥満(1度)  \n",
    "35.00〜39.99以下\t肥満(2度)  \n",
    "40.00以上\t肥満(3度)  \n",
    "\n",
    "## このプログラミングで学べる事\n",
    "・変数の基本  \n",
    "・計算の基本  \n",
    "・条件分岐の基本  \n",
    "・繰り返し処理   \n",
    "・キーボードからの標準入力  \n",
    "・結果の出力  \n",
    "\n",
    "\n",
    "\n"
   ]
  },
  {
   "cell_type": "code",
   "execution_count": null,
   "id": "2efe7393-a836-462d-a234-5e24e168b115",
   "metadata": {},
   "outputs": [],
   "source": [
    "#自分のBMIを計算してみましょう！ うその数字でもいいです。ちなみに伊藤は身長168㎝、体重100kgです。\n",
    "#身長と体重を入力してみてください。伊藤の数字を使ってもよいです。\n",
    "height=        #半角数字でメートルで入力\n",
    "weight=        #半角数字で㎏で入力\n",
    "bmi=          #計算式　BMI ＝ 体重kg ÷ (身長m)^2  \n",
    "\n",
    "#計算したBMIを出力 print()\n",
    "print(bmi)\n",
    "\n"
   ]
  },
  {
   "cell_type": "code",
   "execution_count": null,
   "id": "ea4cfb8c-660a-4056-aed0-245366ebfd23",
   "metadata": {},
   "outputs": [],
   "source": [
    "#キーボードからの文字入力を受け付けよう\n",
    "#（）の中に\"\"で囲んだメッセージを入れてinput文を作ることもできます。\n",
    "\n",
    "height=input()\n",
    "weight=input()\n",
    "bmi=\n",
    "\n",
    "print(bmi)\n"
   ]
  },
  {
   "cell_type": "code",
   "execution_count": null,
   "id": "696e05ba-e543-489b-97ce-7de35d6bf70e",
   "metadata": {},
   "outputs": [],
   "source": [
    "＃イケてるプリント分にしてみよう\n",
    "print(f'あなたのBMIは{bmi}です')\n"
   ]
  },
  {
   "cell_type": "code",
   "execution_count": 23,
   "id": "3a9e09e8-27f1-4948-b7f3-68c4715991a5",
   "metadata": {},
   "outputs": [],
   "source": [
    "#応用編！半角数字のみを受け入れる関数です。数字以外を入れたら、エラーを返します。\n",
    "\n",
    "def input_digit(prompt):\n",
    "    while True:\n",
    "        str = input(prompt)\n",
    "\n",
    "        # 整数チェック\n",
    "        if not str.isdigit():\n",
    "            print(\"[Error] 整数で入力してください\")\n",
    "            continue\n",
    "\n",
    "        break\n",
    "\n",
    "    return float(str)"
   ]
  }
 ],
 "metadata": {
  "kernelspec": {
   "display_name": "Python 3 (ipykernel)",
   "language": "python",
   "name": "python3"
  },
  "language_info": {
   "codemirror_mode": {
    "name": "ipython",
    "version": 3
   },
   "file_extension": ".py",
   "mimetype": "text/x-python",
   "name": "python",
   "nbconvert_exporter": "python",
   "pygments_lexer": "ipython3",
   "version": "3.10.10"
  }
 },
 "nbformat": 4,
 "nbformat_minor": 5
}
