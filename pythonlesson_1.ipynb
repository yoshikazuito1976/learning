{
 "cells": [
  {
   "cell_type": "markdown",
   "metadata": {},
   "source": [
    "## PythonでBMIを計算するアプリをつくりましょう\n",
    "\n",
    "BMI（Body Mass Index）はボディマス指数と呼ばれ、体重と身長から算出される肥満度を表す体格指数です。  \n",
    "\n",
    "$$BMI ＝ 体重kg ÷ (身長m)^{2}$$\n",
    "$$適正体重 ＝ (身長m)^{2} ×22$$\n",
    "\n",
    "成人  \n",
    "日本肥満学会の判定基準  \n",
    "|BMI値|判定|  \n",
    "|----|----|\n",
    "|18.5未満|低体重(痩せ型)|  　\n",
    "|18.5〜25未満|普通体重|  \n",
    "|25〜30未満|肥満(1度)|  \n",
    "|30〜35未満|肥満(2度)|  \n",
    "|35〜40未満|肥満(3度)|  \n",
    "|40以上|肥満(4度)|  \n",
    "\n",
    "世界保健機関(WHO)の判定基準  \n",
    "|BMI値|判定|\n",
    "|----|-----|  \n",
    "|16未満|痩せすぎ|  \n",
    "|16.00〜16.99以下|痩せ|  \n",
    "|17.00〜18.49以|痩せぎみ|\n",
    "|18.50〜24.99以下|普通体重|\n",
    "|25.00〜29.99以下|前肥満|\n",
    "|30.00〜34.99以下|肥満(1度)|\n",
    "|35.00〜39.99以下|肥満(2度)|\n",
    "|40.00以上|肥満(3度)|\n",
    "\n",
    "\n",
    "体重と身長からBMIを計算し、それを表示します。\n",
    "数字の範囲による肥満度まで表示できればすばらしい\n",
    "\n",
    "### ステップ１\n",
    "まずは普通に計算してみましょう  \n",
    "使う関数　print()  \n",
    "使う記号　+ - / * .\n",
    "\n",
    "### ステップ２\n",
    "数字を変数に入れて記憶しましょう  \n",
    "使う変数(例) ht wt bmi  \n",
    "ht=168  \n",
    "wt=100\n",
    "\n",
    "### ステップ３\n",
    "print()文を工夫してわかりやすい表示にしましょう  \n",
    "例  \n",
    "print(f'あなたのBMIは{bmi}です。')\n",
    "とかね\n"
   ]
  },
  {
   "cell_type": "markdown",
   "metadata": {},
   "source": []
  },
  {
   "cell_type": "code",
   "execution_count": null,
   "metadata": {},
   "outputs": [
    {
     "ename": "NameError",
     "evalue": "name 'BMI' is not defined",
     "output_type": "error",
     "traceback": [
      "\u001b[0;31m---------------------------------------------------------------------------\u001b[0m\n",
      "\u001b[0;31mNameError\u001b[0m                                 Traceback (most recent call last)\n",
      "Cell \u001b[0;32mIn[1], line 3\u001b[0m\n",
      "\u001b[1;32m      1\u001b[0m \u001b[38;5;66;03m## BMIを計算するアプリをつくりましょう\u001b[39;00m\n",
      "\u001b[0;32m----> 3\u001b[0m \u001b[43mBMI\u001b[49m\n",
      "\n",
      "\u001b[0;31mNameError\u001b[0m: name 'BMI' is not defined"
     ]
    }
   ],
   "source": []
  },
  {
   "cell_type": "markdown",
   "metadata": {},
   "source": []
  }
 ],
 "metadata": {
  "kernelspec": {
   "display_name": "base",
   "language": "python",
   "name": "python3"
  },
  "language_info": {
   "codemirror_mode": {
    "name": "ipython",
    "version": 3
   },
   "file_extension": ".py",
   "mimetype": "text/x-python",
   "name": "python",
   "nbconvert_exporter": "python",
   "pygments_lexer": "ipython3",
   "version": "3.10.13"
  }
 },
 "nbformat": 4,
 "nbformat_minor": 2
}
