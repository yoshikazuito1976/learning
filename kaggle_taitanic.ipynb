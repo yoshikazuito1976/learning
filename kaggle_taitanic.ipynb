{
 "cells": [
  {
   "cell_type": "code",
   "execution_count": 33,
   "id": "58ec85df-ae30-497b-aea9-8b46b4b68b36",
   "metadata": {},
   "outputs": [],
   "source": [
    "import pandas as pd\n",
    "import numpy as np\n",
    "train = pd.read_csv('train.csv')\n",
    "test = pd.read_csv('test.csv')\n",
    "gender_submission = pd.read_csv('gender_submission.csv')\n",
    "\n",
    "data = pd.concat([train, test], sort=False)\n",
    "\n",
    "data['Sex'].replace(['male', 'female'], [0, 1], inplace=True)\n",
    "data['Embarked'].fillna(('S'), inplace=True)\n",
    "data['Embarked'] = data['Embarked'].map({'S': 0, 'C': 1, 'Q': 2}).astype(int)\n",
    "data['Fare'].fillna(np.mean(data['Fare']), inplace=True)"
   ]
  },
  {
   "cell_type": "code",
   "execution_count": 34,
   "id": "9459a9da-2173-42d3-b081-1bb73f69989e",
   "metadata": {},
   "outputs": [
    {
     "data": {
      "text/plain": [
       "30"
      ]
     },
     "execution_count": 34,
     "metadata": {},
     "output_type": "execute_result"
    }
   ],
   "source": [
    "age_avg = data['Age'].mean()\n",
    "age_std = data['Age'].std()\n",
    "\n",
    "np.random.randint(age_avg - age_std, age_avg + age_std)"
   ]
  },
  {
   "cell_type": "code",
   "execution_count": 35,
   "id": "149c3ffa-ecf9-48ad-86b4-351cd46ce7e4",
   "metadata": {},
   "outputs": [],
   "source": [
    "data['Age'].fillna(data['Age'].median(), inplace=True)"
   ]
  },
  {
   "cell_type": "code",
   "execution_count": 36,
   "id": "59507414-ed42-4703-97cd-c872e58a467d",
   "metadata": {},
   "outputs": [
    {
     "data": {
      "text/plain": [
       "28.0"
      ]
     },
     "execution_count": 36,
     "metadata": {},
     "output_type": "execute_result"
    }
   ],
   "source": [
    "data['Age'].median()"
   ]
  },
  {
   "cell_type": "code",
   "execution_count": 37,
   "id": "e0f5519d-6af1-43e3-9b2e-e1b789e8a489",
   "metadata": {},
   "outputs": [],
   "source": [
    "delete_columns = ['Name', 'PassengerId', 'SibSp', 'Parch', 'Ticket', 'Cabin']\n",
    "data.drop(delete_columns, axis=1, inplace=True)\n",
    "\n",
    "train = data[:len(train)]\n",
    "test = data[len(train):]\n",
    "\n",
    "y_train = train['Survived']\n",
    "X_train = train.drop('Survived', axis=1)\n",
    "X_test = test.drop('Survived', axis=1)"
   ]
  },
  {
   "cell_type": "code",
   "execution_count": 38,
   "id": "18d5632b-7a0e-4b92-b841-a7c66c26c9ca",
   "metadata": {},
   "outputs": [
    {
     "data": {
      "text/plain": [
       "<bound method NDFrame.head of 0      0.0\n",
       "1      1.0\n",
       "2      1.0\n",
       "3      1.0\n",
       "4      0.0\n",
       "      ... \n",
       "886    0.0\n",
       "887    1.0\n",
       "888    0.0\n",
       "889    1.0\n",
       "890    0.0\n",
       "Name: Survived, Length: 891, dtype: float64>"
      ]
     },
     "execution_count": 38,
     "metadata": {},
     "output_type": "execute_result"
    }
   ],
   "source": [
    "y_train.head"
   ]
  },
  {
   "cell_type": "code",
   "execution_count": 39,
   "id": "2126b656-24b2-4a24-ab7f-1554d656024c",
   "metadata": {},
   "outputs": [],
   "source": [
    "from sklearn.linear_model import LogisticRegression\n",
    "\n",
    "\n",
    "clf = LogisticRegression(penalty='l2', solver='sag', random_state=0)"
   ]
  },
  {
   "cell_type": "code",
   "execution_count": 40,
   "id": "9e82b87c-3763-46ba-a35b-0a151d0a8b6e",
   "metadata": {},
   "outputs": [
    {
     "name": "stderr",
     "output_type": "stream",
     "text": [
      "/home/aisyu/miniforge3/lib/python3.10/site-packages/sklearn/linear_model/_sag.py:350: ConvergenceWarning: The max_iter was reached which means the coef_ did not converge\n",
      "  warnings.warn(\n"
     ]
    }
   ],
   "source": [
    "clf.fit(X_train, y_train)\n",
    "y_pred = clf.predict(X_test)"
   ]
  },
  {
   "cell_type": "code",
   "execution_count": 41,
   "id": "e3c30582-fec2-4045-b373-67a6f63e085e",
   "metadata": {},
   "outputs": [
    {
     "data": {
      "text/plain": [
       "array([0., 0., 0., 0., 0., 0., 0., 0., 0., 0., 0., 0., 1., 0., 0., 0., 0.,\n",
       "       0., 0., 0., 0., 0., 0., 1., 1., 0., 1., 0., 0., 0., 0., 0., 0., 0.,\n",
       "       1., 0., 0., 0., 0., 0., 0., 0., 0., 0., 0., 0., 0., 0., 0., 0., 1.,\n",
       "       0., 0., 1., 0., 0., 0., 0., 0., 1., 0., 0., 0., 0., 1., 0., 0., 0.,\n",
       "       0., 1., 0., 0., 0., 0., 1., 1., 0., 0., 0., 0., 0., 1., 0., 0., 0.,\n",
       "       0., 0., 0., 0., 0., 0., 0., 1., 0., 0., 0., 0., 0., 0., 0., 0., 0.,\n",
       "       0., 0., 0., 0., 0., 0., 0., 0., 0., 0., 0., 0., 1., 0., 0., 0., 1.,\n",
       "       0., 0., 0., 1., 0., 0., 0., 0., 0., 0., 0., 0., 0., 0., 0., 0., 0.,\n",
       "       0., 0., 0., 0., 1., 1., 1., 0., 0., 0., 0., 0., 0., 0., 1., 0., 0.,\n",
       "       0., 0., 0., 1., 0., 0., 0., 0., 0., 0., 0., 0., 0., 0., 0., 0., 0.,\n",
       "       0., 0., 0., 0., 0., 1., 0., 0., 0., 0., 0., 1., 1., 0., 1., 0., 0.,\n",
       "       0., 1., 0., 0., 0., 0., 0., 0., 0., 1., 0., 0., 0., 0., 0., 1., 1.,\n",
       "       0., 0., 0., 0., 0., 0., 0., 0., 1., 0., 0., 0., 0., 1., 1., 0., 0.,\n",
       "       0., 0., 0., 0., 0., 0., 0., 0., 0., 1., 0., 0., 0., 1., 0., 0., 0.,\n",
       "       0., 1., 0., 0., 1., 0., 0., 0., 0., 0., 0., 0., 1., 0., 1., 0., 0.,\n",
       "       0., 0., 0., 0., 0., 0., 0., 0., 0., 0., 0., 0., 0., 0., 0., 0., 0.,\n",
       "       1., 0., 0., 0., 0., 0., 0., 0., 0., 0., 0., 0., 0., 0., 0., 1., 0.,\n",
       "       0., 0., 0., 0., 0., 0., 0., 1., 0., 0., 0., 0., 0., 0., 0., 0., 0.,\n",
       "       1., 0., 0., 0., 0., 0., 0., 0., 1., 0., 1., 0., 0., 0., 0., 0., 0.,\n",
       "       0., 1., 0., 1., 0., 0., 0., 0., 0., 0., 0., 0., 0., 0., 0., 0., 0.,\n",
       "       0., 0., 0., 1., 0., 0., 0., 0., 0., 0., 0., 0., 1., 0., 0., 0., 0.,\n",
       "       0., 0., 0., 1., 0., 0., 0., 1., 1., 0., 0., 0., 0., 0., 1., 0., 0.,\n",
       "       0., 1., 0., 0., 0., 0., 0., 0., 0., 0., 0., 1., 0., 0., 0., 0., 1.,\n",
       "       0., 0., 0., 0., 1., 0., 1., 0., 0., 1., 0., 1., 1., 0., 0., 0., 1.,\n",
       "       0., 0., 0., 1., 0., 0., 1., 0., 0., 0.])"
      ]
     },
     "execution_count": 41,
     "metadata": {},
     "output_type": "execute_result"
    }
   ],
   "source": [
    "y_pred"
   ]
  },
  {
   "cell_type": "code",
   "execution_count": 45,
   "id": "23ccd02d-76af-4087-be3d-96c29eae3510",
   "metadata": {},
   "outputs": [],
   "source": [
    "train = pd.read_csv('train.csv')\n",
    "test = pd.read_csv('test.csv')\n",
    "gender_submission = pd.read_csv('gender_submission.csv')\n",
    "\n",
    "data = pd.concat([train, test], sort=False)\n",
    "\n",
    "data['Sex'].replace(['male', 'female'], [0, 1], inplace=True)\n",
    "data['Embarked'].fillna(('S'), inplace=True)\n",
    "data['Embarked'] = data['Embarked'].map({'S': 0, 'C': 1, 'Q': 2}).astype(int)\n",
    "data['Fare'].fillna(np.mean(data['Fare']), inplace=True)\n",
    "data['Age'].fillna(data['Age'].median(), inplace=True)"
   ]
  },
  {
   "cell_type": "code",
   "execution_count": 46,
   "id": "72c2bd2d-a31c-44d6-ac2d-020b986a9139",
   "metadata": {},
   "outputs": [
    {
     "data": {
      "text/plain": [
       "<AxesSubplot: xlabel='FamilySize', ylabel='count'>"
      ]
     },
     "execution_count": 46,
     "metadata": {},
     "output_type": "execute_result"
    },
    {
     "data": {
      "image/png": "[encoded data removed]",
      "text/plain": [
       "<Figure size 640x480 with 1 Axes>"
      ]
     },
     "metadata": {},
     "output_type": "display_data"
    }
   ],
   "source": [
    "import seaborn as sns\n",
    "\n",
    "\n",
    "data['FamilySize'] = data['Parch'] + data['SibSp'] + 1\n",
    "train['FamilySize'] = data['FamilySize'][:len(train)]\n",
    "test['FamilySize'] = data['FamilySize'][len(train):]\n",
    "sns.countplot(x='FamilySize', data = train, hue='Survived')"
   ]
  },
  {
   "cell_type": "code",
   "execution_count": 47,
   "id": "4b663c9d-3a5a-49c5-9bab-0fbd6d86d1a2",
   "metadata": {},
   "outputs": [],
   "source": [
    "data['IsAlone'] = 0\n",
    "data.loc[data['FamilySize'] == 1, 'IsAlone'] = 1\n",
    "\n",
    "train['IsAlone'] = data['IsAlone'][:len(train)]\n",
    "test['IsAlone'] = data['IsAlone'][len(train):]"
   ]
  },
  {
   "cell_type": "code",
   "execution_count": 48,
   "id": "6dcad061-c15d-44e1-a87c-0f9a75b36669",
   "metadata": {},
   "outputs": [
    {
     "data": {
      "text/plain": [
       "0      0\n",
       "1      0\n",
       "2      1\n",
       "3      0\n",
       "4      1\n",
       "      ..\n",
       "413    1\n",
       "414    1\n",
       "415    1\n",
       "416    1\n",
       "417    0\n",
       "Name: IsAlone, Length: 1309, dtype: int64"
      ]
     },
     "execution_count": 48,
     "metadata": {},
     "output_type": "execute_result"
    }
   ],
   "source": [
    "data['IsAlone']"
   ]
  },
  {
   "cell_type": "code",
   "execution_count": 49,
   "id": "be661422-c2da-4b8d-9332-bb5b84fdde7a",
   "metadata": {},
   "outputs": [],
   "source": [
    "delete_columns = ['Name', 'PassengerId', 'SibSp', 'Parch', 'Ticket', 'Cabin']\n",
    "data.drop(delete_columns, axis=1, inplace=True)\n",
    "\n",
    "train = data[:len(train)]\n",
    "test = data[len(train):]\n",
    "\n",
    "y_train = train['Survived']\n",
    "X_train = train.drop('Survived', axis=1)\n",
    "X_test = test.drop('Survived', axis=1)"
   ]
  },
  {
   "cell_type": "code",
   "execution_count": 50,
   "id": "46f6a322-ec22-472f-8ca3-7ae236c11402",
   "metadata": {},
   "outputs": [
    {
     "data": {
      "text/html": [
       "<div>\n",
       "<style scoped>\n",
       "    .dataframe tbody tr th:only-of-type {\n",
       "        vertical-align: middle;\n",
       "    }\n",
       "\n",
       "    .dataframe tbody tr th {\n",
       "        vertical-align: top;\n",
       "    }\n",
       "\n",
       "    .dataframe thead th {\n",
       "        text-align: right;\n",
       "    }\n",
       "</style>\n",
       "<table border=\"1\" class=\"dataframe\">\n",
       "  <thead>\n",
       "    <tr style=\"text-align: right;\">\n",
       "      <th></th>\n",
       "      <th>Pclass</th>\n",
       "      <th>Sex</th>\n",
       "      <th>Age</th>\n",
       "      <th>Fare</th>\n",
       "      <th>Embarked</th>\n",
       "      <th>FamilySize</th>\n",
       "      <th>IsAlone</th>\n",
       "    </tr>\n",
       "  </thead>\n",
       "  <tbody>\n",
       "    <tr>\n",
       "      <th>0</th>\n",
       "      <td>3</td>\n",
       "      <td>0</td>\n",
       "      <td>22.0</td>\n",
       "      <td>7.2500</td>\n",
       "      <td>0</td>\n",
       "      <td>2</td>\n",
       "      <td>0</td>\n",
       "    </tr>\n",
       "    <tr>\n",
       "      <th>1</th>\n",
       "      <td>1</td>\n",
       "      <td>1</td>\n",
       "      <td>38.0</td>\n",
       "      <td>71.2833</td>\n",
       "      <td>1</td>\n",
       "      <td>2</td>\n",
       "      <td>0</td>\n",
       "    </tr>\n",
       "    <tr>\n",
       "      <th>2</th>\n",
       "      <td>3</td>\n",
       "      <td>1</td>\n",
       "      <td>26.0</td>\n",
       "      <td>7.9250</td>\n",
       "      <td>0</td>\n",
       "      <td>1</td>\n",
       "      <td>1</td>\n",
       "    </tr>\n",
       "    <tr>\n",
       "      <th>3</th>\n",
       "      <td>1</td>\n",
       "      <td>1</td>\n",
       "      <td>35.0</td>\n",
       "      <td>53.1000</td>\n",
       "      <td>0</td>\n",
       "      <td>2</td>\n",
       "      <td>0</td>\n",
       "    </tr>\n",
       "    <tr>\n",
       "      <th>4</th>\n",
       "      <td>3</td>\n",
       "      <td>0</td>\n",
       "      <td>35.0</td>\n",
       "      <td>8.0500</td>\n",
       "      <td>0</td>\n",
       "      <td>1</td>\n",
       "      <td>1</td>\n",
       "    </tr>\n",
       "  </tbody>\n",
       "</table>\n",
       "</div>"
      ],
      "text/plain": [
       "   Pclass  Sex   Age     Fare  Embarked  FamilySize  IsAlone\n",
       "0       3    0  22.0   7.2500         0           2        0\n",
       "1       1    1  38.0  71.2833         1           2        0\n",
       "2       3    1  26.0   7.9250         0           1        1\n",
       "3       1    1  35.0  53.1000         0           2        0\n",
       "4       3    0  35.0   8.0500         0           1        1"
      ]
     },
     "execution_count": 50,
     "metadata": {},
     "output_type": "execute_result"
    }
   ],
   "source": [
    "X_train.head()"
   ]
  },
  {
   "cell_type": "code",
   "execution_count": 51,
   "id": "25560edf-730c-4ea9-b335-b9e5840da277",
   "metadata": {},
   "outputs": [],
   "source": [
    "sub = pd.read_csv('gender_submission.csv')"
   ]
  },
  {
   "cell_type": "code",
   "execution_count": 52,
   "id": "7f3e5f9a-7e1f-425f-a737-a606ade17d09",
   "metadata": {},
   "outputs": [
    {
     "name": "stderr",
     "output_type": "stream",
     "text": [
      "/home/aisyu/miniforge3/lib/python3.10/site-packages/sklearn/linear_model/_sag.py:350: ConvergenceWarning: The max_iter was reached which means the coef_ did not converge\n",
      "  warnings.warn(\n"
     ]
    },
    {
     "data": {
      "text/html": [
       "<div>\n",
       "<style scoped>\n",
       "    .dataframe tbody tr th:only-of-type {\n",
       "        vertical-align: middle;\n",
       "    }\n",
       "\n",
       "    .dataframe tbody tr th {\n",
       "        vertical-align: top;\n",
       "    }\n",
       "\n",
       "    .dataframe thead th {\n",
       "        text-align: right;\n",
       "    }\n",
       "</style>\n",
       "<table border=\"1\" class=\"dataframe\">\n",
       "  <thead>\n",
       "    <tr style=\"text-align: right;\">\n",
       "      <th></th>\n",
       "      <th>PassengerId</th>\n",
       "      <th>Survived</th>\n",
       "    </tr>\n",
       "  </thead>\n",
       "  <tbody>\n",
       "    <tr>\n",
       "      <th>0</th>\n",
       "      <td>892</td>\n",
       "      <td>0</td>\n",
       "    </tr>\n",
       "    <tr>\n",
       "      <th>1</th>\n",
       "      <td>893</td>\n",
       "      <td>0</td>\n",
       "    </tr>\n",
       "    <tr>\n",
       "      <th>2</th>\n",
       "      <td>894</td>\n",
       "      <td>0</td>\n",
       "    </tr>\n",
       "    <tr>\n",
       "      <th>3</th>\n",
       "      <td>895</td>\n",
       "      <td>0</td>\n",
       "    </tr>\n",
       "    <tr>\n",
       "      <th>4</th>\n",
       "      <td>896</td>\n",
       "      <td>0</td>\n",
       "    </tr>\n",
       "  </tbody>\n",
       "</table>\n",
       "</div>"
      ],
      "text/plain": [
       "   PassengerId  Survived\n",
       "0          892         0\n",
       "1          893         0\n",
       "2          894         0\n",
       "3          895         0\n",
       "4          896         0"
      ]
     },
     "execution_count": 52,
     "metadata": {},
     "output_type": "execute_result"
    }
   ],
   "source": [
    "clf.fit(X_train, y_train)\n",
    "y_pred_familysize_isalone = clf.predict(X_test)\n",
    "\n",
    "sub['Survived'] = list(map(int, y_pred_familysize_isalone))\n",
    "sub.to_csv('submission_familysize_isalone.csv', index=False)\n",
    "\n",
    "sub.head()"
   ]
  },
  {
   "cell_type": "code",
   "execution_count": 53,
   "id": "b17e14e0-d97f-41e3-a1b9-87e2e3031820",
   "metadata": {},
   "outputs": [
    {
     "name": "stderr",
     "output_type": "stream",
     "text": [
      "/home/aisyu/miniforge3/lib/python3.10/site-packages/sklearn/linear_model/_sag.py:350: ConvergenceWarning: The max_iter was reached which means the coef_ did not converge\n",
      "  warnings.warn(\n"
     ]
    },
    {
     "data": {
      "text/html": [
       "<div>\n",
       "<style scoped>\n",
       "    .dataframe tbody tr th:only-of-type {\n",
       "        vertical-align: middle;\n",
       "    }\n",
       "\n",
       "    .dataframe tbody tr th {\n",
       "        vertical-align: top;\n",
       "    }\n",
       "\n",
       "    .dataframe thead th {\n",
       "        text-align: right;\n",
       "    }\n",
       "</style>\n",
       "<table border=\"1\" class=\"dataframe\">\n",
       "  <thead>\n",
       "    <tr style=\"text-align: right;\">\n",
       "      <th></th>\n",
       "      <th>PassengerId</th>\n",
       "      <th>Survived</th>\n",
       "    </tr>\n",
       "  </thead>\n",
       "  <tbody>\n",
       "    <tr>\n",
       "      <th>0</th>\n",
       "      <td>892</td>\n",
       "      <td>0</td>\n",
       "    </tr>\n",
       "    <tr>\n",
       "      <th>1</th>\n",
       "      <td>893</td>\n",
       "      <td>0</td>\n",
       "    </tr>\n",
       "    <tr>\n",
       "      <th>2</th>\n",
       "      <td>894</td>\n",
       "      <td>0</td>\n",
       "    </tr>\n",
       "    <tr>\n",
       "      <th>3</th>\n",
       "      <td>895</td>\n",
       "      <td>0</td>\n",
       "    </tr>\n",
       "    <tr>\n",
       "      <th>4</th>\n",
       "      <td>896</td>\n",
       "      <td>0</td>\n",
       "    </tr>\n",
       "  </tbody>\n",
       "</table>\n",
       "</div>"
      ],
      "text/plain": [
       "   PassengerId  Survived\n",
       "0          892         0\n",
       "1          893         0\n",
       "2          894         0\n",
       "3          895         0\n",
       "4          896         0"
      ]
     },
     "execution_count": 53,
     "metadata": {},
     "output_type": "execute_result"
    }
   ],
   "source": [
    "clf.fit(X_train.drop('IsAlone', axis=1), y_train)\n",
    "y_pred_familysize = clf.predict(X_test.drop('IsAlone', axis=1))\n",
    "\n",
    "sub['Survived'] = list(map(int, y_pred_familysize))\n",
    "sub.to_csv('submission_familysize.csv', index=False)\n",
    "\n",
    "sub.head()"
   ]
  },
  {
   "cell_type": "code",
   "execution_count": 54,
   "id": "d6f6a0a7-4cdf-4bb3-8c5c-5269f29ed311",
   "metadata": {},
   "outputs": [
    {
     "name": "stderr",
     "output_type": "stream",
     "text": [
      "/home/aisyu/miniforge3/lib/python3.10/site-packages/sklearn/linear_model/_sag.py:350: ConvergenceWarning: The max_iter was reached which means the coef_ did not converge\n",
      "  warnings.warn(\n"
     ]
    },
    {
     "data": {
      "text/html": [
       "<div>\n",
       "<style scoped>\n",
       "    .dataframe tbody tr th:only-of-type {\n",
       "        vertical-align: middle;\n",
       "    }\n",
       "\n",
       "    .dataframe tbody tr th {\n",
       "        vertical-align: top;\n",
       "    }\n",
       "\n",
       "    .dataframe thead th {\n",
       "        text-align: right;\n",
       "    }\n",
       "</style>\n",
       "<table border=\"1\" class=\"dataframe\">\n",
       "  <thead>\n",
       "    <tr style=\"text-align: right;\">\n",
       "      <th></th>\n",
       "      <th>PassengerId</th>\n",
       "      <th>Survived</th>\n",
       "    </tr>\n",
       "  </thead>\n",
       "  <tbody>\n",
       "    <tr>\n",
       "      <th>0</th>\n",
       "      <td>892</td>\n",
       "      <td>0</td>\n",
       "    </tr>\n",
       "    <tr>\n",
       "      <th>1</th>\n",
       "      <td>893</td>\n",
       "      <td>0</td>\n",
       "    </tr>\n",
       "    <tr>\n",
       "      <th>2</th>\n",
       "      <td>894</td>\n",
       "      <td>0</td>\n",
       "    </tr>\n",
       "    <tr>\n",
       "      <th>3</th>\n",
       "      <td>895</td>\n",
       "      <td>0</td>\n",
       "    </tr>\n",
       "    <tr>\n",
       "      <th>4</th>\n",
       "      <td>896</td>\n",
       "      <td>0</td>\n",
       "    </tr>\n",
       "  </tbody>\n",
       "</table>\n",
       "</div>"
      ],
      "text/plain": [
       "   PassengerId  Survived\n",
       "0          892         0\n",
       "1          893         0\n",
       "2          894         0\n",
       "3          895         0\n",
       "4          896         0"
      ]
     },
     "execution_count": 54,
     "metadata": {},
     "output_type": "execute_result"
    }
   ],
   "source": [
    "clf.fit(X_train.drop(['FamilySize', 'IsAlone'], axis=1), y_train)\n",
    "y_pred = clf.predict(X_test.drop(['FamilySize', 'IsAlone'], axis=1))\n",
    "\n",
    "sub['Survived'] = list(map(int, y_pred))\n",
    "sub.to_csv('submission.csv', index=False)\n",
    "\n",
    "sub.head()"
   ]
  },
  {
   "cell_type": "code",
   "execution_count": 1,
   "id": "5bf39882-2c49-4ba7-8baf-c556187ddd64",
   "metadata": {},
   "outputs": [
    {
     "data": {
      "text/plain": [
       "3"
      ]
     },
     "execution_count": 1,
     "metadata": {},
     "output_type": "execute_result"
    }
   ],
   "source": [
    "1+2"
   ]
  },
  {
   "cell_type": "code",
   "execution_count": null,
   "id": "c7141c0f-4491-4290-8de5-09a22a50602a",
   "metadata": {},
   "outputs": [],
   "source": [
    "bmi = 10000　*weight /height/height\n",
    "\n",
    "90\n",
    "180\n",
    "23\n"
   ]
  },
  {
   "cell_type": "code",
   "execution_count": 4,
   "id": "dedf2911-a7e1-464a-a7e3-f456c456d107",
   "metadata": {},
   "outputs": [
    {
     "data": {
      "text/plain": [
       "27"
      ]
     },
     "execution_count": 4,
     "metadata": {},
     "output_type": "execute_result"
    }
   ],
   "source": [
    "int(10000*90/180/180)"
   ]
  },
  {
   "cell_type": "code",
   "execution_count": 16,
   "id": "6f1209b3-ba95-4e46-bcc1-5e421336b7c0",
   "metadata": {},
   "outputs": [
    {
     "name": "stdout",
     "output_type": "stream",
     "text": [
      "74\n",
      "90\n",
      "16\n"
     ]
    }
   ],
   "source": [
    "w=90\n",
    "genryou=w\n",
    "h=180\n",
    "resou =23\n",
    "for i in range(w):\n",
    "    bmi = genryou*10000/h/h\n",
    "    if bmi<=resou:\n",
    "        print(genryou)\n",
    "        break\n",
    "    genryou -= 1\n",
    "print(w)\n",
    "print(w-genryou)"
   ]
  },
  {
   "cell_type": "code",
   "execution_count": 10,
   "id": "54dd2272-2d0d-4176-853e-01c25cd7fe64",
   "metadata": {},
   "outputs": [
    {
     "data": {
      "text/plain": [
       "22"
      ]
     },
     "execution_count": 10,
     "metadata": {},
     "output_type": "execute_result"
    }
   ],
   "source": [
    "int(10000*74/180/180)"
   ]
  },
  {
   "cell_type": "code",
   "execution_count": 17,
   "id": "30bc8a40-21eb-4436-af23-9b8ba6e60e70",
   "metadata": {},
   "outputs": [
    {
     "data": {
      "text/plain": [
       "0.125"
      ]
     },
     "execution_count": 17,
     "metadata": {},
     "output_type": "execute_result"
    }
   ],
   "source": [
    "1/8\n"
   ]
  },
  {
   "cell_type": "code",
   "execution_count": null,
   "id": "309b8783-351b-423d-a6b8-5e8c97e243de",
   "metadata": {},
   "outputs": [],
   "source": [
    "date,sales,weather,temperature,THI,num_staff\n",
    "2010/07/10,6667,1,-0.3,7.2,42\n",
    "2010/07/11,50245,0,7.3,5.5,4\n",
    "2010/07/12,43677,2,5.7,33.9,36\n",
    "2010/07/13,90137,2,17.1,4.8,48\n",
    "2010/07/14,217531,0,38.8,17.9,28\n",
    "2010/07/15,44585,1,2.6,62.1,18\n",
    "2010/07/16,101801,1,12,83.2,24\n",
    "2010/07/17,193824,2,37.3,4.3,21\n",
    "2010/07/18,122240,3,21.9,27.6,27\n",
    "2010/07/19,236883,0,38.8,64,47\n",
    "2010/07/20,192768,2,,,36\n",
    "2010/07/21,94911,0,13.6,,12\n",
    "2010/07/22,42461,3,1.9,82.7,37\n",
    "2010/07/23,228931,0,36.3,75.8,9\n",
    "2010/07/24,179666,0,27.3,68.7,25\n",
    "2010/07/25,140849,0,22.2,38.7,27\n",
    "2010/07/26,14017,2,,95.7,23\n",
    "2010/07/27,62943,0,9.2,12.4,33\n",
    "2010/07/28,48681,0,5.9,18.9,23\n",
    "2010/07/29,196799,3,38.6,0.5,33\n",
    "2010/07/30,88740,2,9.5,94.8,10\n",
    "2010/07/31,41719,1,6.2,11.1,18\n",
    "2010/08/01,61698,1,10.9,1.1,10\n",
    "2010/08/02,150262,2,27.4,21.9,\n",
    "2010/08/03,119609,2,20.7,31,13\n",
    "2010/08/04,86752,3,11.6,69.3,43\n",
    "2010/08/05,41321,0,2.9,38.2,4\n",
    "2010/08/06,127855,3,18.8,79,36\n",
    "2010/08/07,177453,2,26.6,96.5,33\n",
    "2010/08/08,132265,2,17.9,95.5,25\n",
    "2010/08/09,36533,1,-1.2,89.5,25\n",
    "2010/08/10,204059,0,34.6,37.3,29\n",
    "2010/08/11,214510,0,34.9,58.5,45\n",
    "2010/08/12,190747,1,31,,26\n",
    "2010/08/13,185675,2,31.5,56,30\n",
    "2010/08/14,235014,2,39.9,70.6,30\n",
    "2010/08/15,201095,0,31.4,69.5,25\n",
    "2010/08/16,74652,2,13.6,10.9,13\n",
    "2010/08/17,1207,2,-1.8,24.7,10\n",
    "2010/08/18,147996,0,20.9,71.7,23\n",
    "2010/08/19,132452,1,22.4,28.7,25\n",
    "2010/08/20,208393,2,39.9,7.1,39\n",
    "2010/08/21,85956,2,10.9,70.9,45\n",
    "2010/08/22,185699,1,32.2,35.5,1\n",
    "2010/08/23,158396,1,28.5,15.7,37\n",
    "2010/08/24,238335,3,39.8,84.8,43\n",
    "2010/08/25,65236,1,3.7,97.8,38\n",
    "2010/08/26,116283,3,15.5,91.9,32\n",
    "2010/08/27,95904,2,16.6,24.8,1\n",
    "2010/08/28,99204,0,14.5,,10\n"
   ]
  },
  {
   "cell_type": "code",
   "execution_count": 19,
   "id": "26b0edaa-a3b2-47f1-ab64-555d3e6cd53f",
   "metadata": {},
   "outputs": [
    {
     "name": "stdout",
     "output_type": "stream",
     "text": [
      "date,sales,weather,temperature,THI,num_staff\n",
      "2010/07/10,6667,1,-0.3,7.2,42\n",
      "2010/07/11,50245,0,7.3,5.5,4\n",
      "2010/07/12,43677,2,5.7,33.9,36\n",
      "2010/07/13,90137,2,17.1,4.8,48\n",
      "2010/07/14,217531,0,38.8,17.9,28\n",
      "2010/07/15,44585,1,2.6,62.1,18\n",
      "2010/07/16,101801,1,12,83.2,24\n",
      "2010/07/17,193824,2,37.3,4.3,21\n",
      "2010/07/18,122240,3,21.9,27.6,27\n",
      "2010/07/19,236883,0,38.8,64,47\n",
      "2010/07/20,192768,2,,,36\n",
      "2010/07/21,94911,0,13.6,,12\n",
      "2010/07/22,42461,3,1.9,82.7,37\n",
      "2010/07/23,228931,0,36.3,75.8,9\n",
      "2010/07/24,179666,0,27.3,68.7,25\n",
      "2010/07/25,140849,0,22.2,38.7,27\n",
      "2010/07/26,14017,2,,95.7,23\n",
      "2010/07/27,62943,0,9.2,12.4,33\n",
      "2010/07/28,48681,0,5.9,18.9,23\n",
      "2010/07/29,196799,3,38.6,0.5,33\n",
      "2010/07/30,88740,2,9.5,94.8,10\n",
      "2010/07/31,41719,1,6.2,11.1,18\n",
      "2010/08/01,61698,1,10.9,1.1,10\n",
      "2010/08/02,150262,2,27.4,21.9,\n",
      "2010/08/03,119609,2,20.7,31,13\n",
      "2010/08/04,86752,3,11.6,69.3,43\n",
      "2010/08/05,41321,0,2.9,38.2,4\n",
      "2010/08/06,127855,3,18.8,79,36\n",
      "2010/08/07,177453,2,26.6,96.5,33\n",
      "2010/08/08,132265,2,17.9,95.5,25\n",
      "2010/08/09,36533,1,-1.2,89.5,25\n",
      "2010/08/10,204059,0,34.6,37.3,29\n",
      "2010/08/11,214510,0,34.9,58.5,45\n",
      "2010/08/12,190747,1,31,,26\n",
      "2010/08/13,185675,2,31.5,56,30\n",
      "2010/08/14,235014,2,39.9,70.6,30\n",
      "2010/08/15,201095,0,31.4,69.5,25\n",
      "2010/08/16,74652,2,13.6,10.9,13\n",
      "2010/08/17,1207,2,-1.8,24.7,10\n",
      "2010/08/18,147996,0,20.9,71.7,23\n",
      "2010/08/19,132452,1,22.4,28.7,25\n",
      "2010/08/20,208393,2,39.9,7.1,39\n",
      "2010/08/21,85956,2,10.9,70.9,45\n",
      "2010/08/22,185699,1,32.2,35.5,1\n",
      "2010/08/23,158396,1,28.5,15.7,37\n",
      "2010/08/24,238335,3,39.8,84.8,43\n",
      "2010/08/25,65236,1,3.7,97.8,38\n",
      "2010/08/26,116283,3,15.5,91.9,32\n",
      "2010/08/27,95904,2,16.6,24.8,1\n",
      "2010/08/28,99204,0,14.5,,10\n"
     ]
    }
   ],
   "source": [
    "f=open('test.csv')\n",
    "line=f.readline()\n",
    "while line:\n",
    "    print(line.replace('\\n',''))\n",
    "    line=f.readline()\n",
    "    \n",
    "f.close()"
   ]
  },
  {
   "cell_type": "code",
   "execution_count": null,
   "id": "44cbeb79-de67-4059-82c3-72f121998ea5",
   "metadata": {},
   "outputs": [],
   "source": []
  }
 ],
 "metadata": {
  "kernelspec": {
   "display_name": "Python 3",
   "language": "python",
   "name": "python3"
  },
  "language_info": {
   "codemirror_mode": {
    "name": "ipython",
    "version": 3
   },
   "file_extension": ".py",
   "mimetype": "text/x-python",
   "name": "python",
   "nbconvert_exporter": "python",
   "pygments_lexer": "ipython3",
   "version": "3.10.6"
  }
 },
 "nbformat": 4,
 "nbformat_minor": 5
}
